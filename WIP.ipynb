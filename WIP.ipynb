{
 "cells": [
  {
   "cell_type": "markdown",
   "id": "a3ba1cac-a26d-4212-92da-48a04067df4f",
   "metadata": {},
   "source": []
  },
  {
   "cell_type": "markdown",
   "id": "914d7d94-cc1e-414f-bd90-b02290185c01",
   "metadata": {},
   "source": [
    "#"
   ]
  },
  {
   "cell_type": "code",
   "execution_count": 2,
   "id": "33c7ca03-c277-4712-968b-356660571e13",
   "metadata": {},
   "outputs": [],
   "source": [
    "%load_ext autoreload"
   ]
  },
  {
   "cell_type": "code",
   "execution_count": 3,
   "id": "b11cc01b-35dc-44e0-b531-05f6c5f2227c",
   "metadata": {},
   "outputs": [],
   "source": [
    "%autoreload 2"
   ]
  },
  {
   "cell_type": "markdown",
   "id": "01305817-773d-4b0f-b5a0-1d6a72b2ee31",
   "metadata": {},
   "source": [
    "# Lexer"
   ]
  },
  {
   "cell_type": "markdown",
   "id": "90ff97e8-0e33-4d56-a5e5-9ec0a0abf125",
   "metadata": {},
   "source": [
    "# Parser"
   ]
  },
  {
   "cell_type": "code",
   "execution_count": 52,
   "id": "9b0ac21e-4f75-4efc-80e5-8f1dab4428ae",
   "metadata": {},
   "outputs": [],
   "source": [
    "\n",
    "@dataclass\n",
    "class DimensionNode:\n",
    "    value: any\n",
    "\n",
    "@dataclass\n",
    "class NumberNode:\n",
    "    value: any\n",
    "\n",
    "    def __repr__(self):\n",
    "        return f\"{self.value}\"\n",
    "\n",
    "@dataclass\n",
    "class AddNode:\n",
    "    node_a: any\n",
    "    node_b: any\n",
    "\n",
    "    def __repr__(self):\n",
    "        return f\"({self.node_a}+{self.node_b})\"\n",
    "\n",
    "@dataclass\n",
    "class SubtractNode:\n",
    "    node_a: any\n",
    "    node_b: any\n",
    "\n",
    "    def __repr__(self):\n",
    "        return f\"({self.node_a}-{self.node_b})\"\n",
    "\n",
    "@dataclass\n",
    "class MultiplyNode:\n",
    "    node_a: any\n",
    "    node_b: any\n",
    "\n",
    "    def __repr__(self):\n",
    "        return f\"({self.node_a}*{self.node_b})\"\n",
    "\n",
    "@dataclass\n",
    "class DivideNode:\n",
    "    node_a: any\n",
    "    node_b: any\n",
    "\n",
    "    def __repr__(self):\n",
    "        return f\"({self.node_a}/{self.node_b})\"\n",
    "\n",
    "@dataclass\n",
    "class PowNode:\n",
    "    node_a: any\n",
    "    node_b: any\n",
    "    def __repr__(self):\n",
    "        return f\"({self.node_a}**{self.node_b})\"\n",
    "    \n",
    "@dataclass\n",
    "class PlusNode:\n",
    "    node: any\n",
    "\n",
    "    def __repr__(self):\n",
    "        return f\"(+{self.node})\"\n",
    "    \n",
    "@dataclass\n",
    "class MinusNode:\n",
    "    node: any\n",
    "\n",
    "    def __repr__(self):\n",
    "        return f\"(-{self.node})\"\n",
    "    \n",
    "class Parser():\n",
    "    def __init__(self, tokens):\n",
    "        # A parser is an iterable of tokens\n",
    "        self.tokens = iter(tokens)\n",
    "        self.advance()\n",
    "        \n",
    "    def raise_error(self):\n",
    "        raise Exception(\"Invalid Syntax.\")\n",
    "        \n",
    "    def advance(self):\n",
    "        try:\n",
    "            self.current_token = next(self.tokens)\n",
    "        except StopIteration:\n",
    "            self.current_token = None\n",
    "            \n",
    "    def parse(self):\n",
    "        if self.current_token == None:\n",
    "            return None\n",
    "        result = self.expr()\n",
    "        if self.current_token != None:\n",
    "            self.raise_error()\n",
    "        \n",
    "        return result\n",
    "    \n",
    "    def expr(self):\n",
    "        result = self.term()\n",
    "\n",
    "        while self.current_token != None and self.current_token.type in (TokenType.PLUS,\n",
    "                                                                         TokenType.MINUS):\n",
    "            if self.current_token.type == TokenType.PLUS:\n",
    "                self.advance()\n",
    "                result = AddNode(result, self.term())\n",
    "            elif self.current_token.type == TokenType.MINUS:\n",
    "                self.advance()\n",
    "                result = SubtractNode(result, self.term())\n",
    "        return result\n",
    "    \n",
    "\n",
    "    def term(self):\n",
    "        result = self.expo()\n",
    "\n",
    "        while self.current_token != None and self.current_token.type in (TokenType.MULTIPLY,\n",
    "                                                                         TokenType.DIVIDE):\n",
    "            if self.current_token.type == TokenType.MULTIPLY:\n",
    "                self.advance()\n",
    "                result = MultiplyNode(result, self.expo())\n",
    "            elif self.current_token.type == TokenType.DIVIDE:\n",
    "                self.advance()\n",
    "                result = DivideNode(result, self.expo())\n",
    "                \n",
    "        return result\n",
    "\n",
    "    def expo(self):\n",
    "        result = self.factor()\n",
    "    \n",
    "        while self.current_token != None and self.current_token.type == TokenType.POW:\n",
    "            self.advance()\n",
    "            result = PowNode(result, self.factor())    \n",
    "        return result\n",
    "    \n",
    "    \n",
    "    def factor(self):\n",
    "        token = self.current_token\n",
    "\n",
    "        if token.type == TokenType.LPAREN:\n",
    "            self.advance()\n",
    "            result = self.expr()\n",
    "\n",
    "            if self.current_token.type != TokenType.RPAREN:\n",
    "                self.raise_error()\n",
    "            \n",
    "            self.advance()\n",
    "            return result\n",
    "\n",
    "        \n",
    "        elif token.type == TokenType.NUMBER:\n",
    "            self.advance()\n",
    "            return NumberNode(token.value)\n",
    "        \n",
    "        elif token.type == TokenType.DIMENSION:\n",
    "            self.advance()\n",
    "            return DimensionNode(token.value) \n",
    "\n",
    "        elif token.type == TokenType.PLUS:\n",
    "            self.advance()\n",
    "            return PlusNode(self.factor())\n",
    "        \n",
    "        elif token.type == TokenType.MINUS:\n",
    "            self.advance()\n",
    "            return MinusNode(self.factor())\n",
    "        \n",
    "        self.raise_error()"
   ]
  },
  {
   "cell_type": "code",
   "execution_count": 53,
   "id": "cb493ccf-eb7f-4e99-92b9-add2f9e3d31c",
   "metadata": {},
   "outputs": [
    {
     "name": "stdout",
     "output_type": "stream",
     "text": [
      "m\n",
      "[DIMENSION:m]\n",
      "DimensionNode(value='m')\n",
      "L\n",
      "[DIMENSION:L]\n",
      "DimensionNode(value='L')\n",
      "L*M/T**2\n",
      "[DIMENSION:L, MULTIPLY, DIMENSION:M, DIVIDE, DIMENSION:T, POW, NUMBER:2]\n",
      "((DimensionNode(value='L')*DimensionNode(value='M'))/(DimensionNode(value='T')**2))\n",
      "L/T**2\n",
      "[DIMENSION:L, DIVIDE, DIMENSION:T, POW, NUMBER:2]\n",
      "(DimensionNode(value='L')/(DimensionNode(value='T')**2))\n",
      "T**(-2)\n",
      "[DIMENSION:T, POW, LPAREN, MINUS, NUMBER:2, RPAREN]\n",
      "(DimensionNode(value='T')**(-2))\n",
      "RAD\n",
      "[DIMENSION:RAD]\n",
      "DimensionNode(value='RAD')\n",
      "L**2*T\n",
      "[DIMENSION:L, POW, NUMBER:2, MULTIPLY, DIMENSION:T]\n",
      "((DimensionNode(value='L')**2)*DimensionNode(value='T'))\n",
      "L**2*T\n",
      "[DIMENSION:L, POW, NUMBER:2, MULTIPLY, DIMENSION:T]\n",
      "((DimensionNode(value='L')**2)*DimensionNode(value='T'))\n",
      "L*M\n",
      "[DIMENSION:L, MULTIPLY, DIMENSION:M]\n",
      "(DimensionNode(value='L')*DimensionNode(value='M'))\n",
      "theta\n",
      "[DIMENSION:theta]\n",
      "DimensionNode(value='theta')\n",
      "L**10\n",
      "[DIMENSION:L, POW, NUMBER:10]\n",
      "(DimensionNode(value='L')**10)\n",
      "I**2*T**3/(L**2*M)\n",
      "[DIMENSION:I, POW, NUMBER:2, MULTIPLY, DIMENSION:T, POW, NUMBER:3, DIVIDE, LPAREN, DIMENSION:L, POW, NUMBER:2, MULTIPLY, DIMENSION:M, RPAREN]\n",
      "(((DimensionNode(value='I')**2)*(DimensionNode(value='T')**3))/((DimensionNode(value='L')**2)*DimensionNode(value='M')))\n",
      "1/M\n",
      "[NUMBER:1, DIVIDE, DIMENSION:M]\n",
      "(1/DimensionNode(value='M'))\n",
      "L**1.2\n",
      "[DIMENSION:L, POW, NUMBER:1.2]\n",
      "(DimensionNode(value='L')**1.2)\n",
      "L*theta**3/J\n",
      "[DIMENSION:L, MULTIPLY, DIMENSION:theta, POW, NUMBER:3, DIVIDE, DIMENSION:J]\n",
      "((DimensionNode(value='L')*(DimensionNode(value='theta')**3))/DimensionNode(value='J'))\n",
      "theta**(-4)\n",
      "[DIMENSION:theta, POW, LPAREN, MINUS, NUMBER:4, RPAREN]\n",
      "(DimensionNode(value='theta')**(-4))\n"
     ]
    }
   ],
   "source": [
    "for text in to_parse:\n",
    "    print(text)\n",
    "    lexer = Lexer(text)\n",
    "    lexed = list(lexer.generate_tokens())\n",
    "    print(lexed)\n",
    "    parser = Parser(lexed)\n",
    "    tree = parser.parse()\n",
    "    print(tree)"
   ]
  },
  {
   "cell_type": "code",
   "execution_count": 54,
   "id": "6aac33e1-eef9-405c-bc8d-5694e30afde1",
   "metadata": {},
   "outputs": [
    {
     "name": "stdout",
     "output_type": "stream",
     "text": [
      "[DIMENSION:T, POW, NUMBER:2.0, MULTIPLY, DIMENSION:L]\n",
      "((DimensionNode(value='T')**2.0)*DimensionNode(value='L'))\n"
     ]
    }
   ],
   "source": [
    "text = \"T**2.0*L\"#**3/(L**2*M)\"\n",
    "lexer = Lexer(text)\n",
    "lexed = list(lexer.generate_tokens())\n",
    "print(lexed)\n",
    "parser = Parser(lexed)\n",
    "tree = parser.parse()\n",
    "print(tree)"
   ]
  },
  {
   "cell_type": "markdown",
   "id": "0959bfb1-4eb7-48b1-a19d-ddcdee62ddf5",
   "metadata": {},
   "source": [
    "# Interpreter"
   ]
  },
  {
   "cell_type": "code",
   "execution_count": 56,
   "id": "ddec6f84-a5f7-496f-a867-61af248b8178",
   "metadata": {},
   "outputs": [
    {
     "name": "stdout",
     "output_type": "stream",
     "text": [
      "[DIMENSION:T, POW, NUMBER:2.0]\n",
      "(DimensionNode(value='T')**2.0)\n",
      "####INTERPRETER\n"
     ]
    },
    {
     "ename": "TypeError",
     "evalue": "unsupported operand type(s) for ** or pow(): 'str' and 'float'",
     "output_type": "error",
     "traceback": [
      "\u001b[0;31m---------------------------------------------------------------------------\u001b[0m",
      "\u001b[0;31mTypeError\u001b[0m                                 Traceback (most recent call last)",
      "\u001b[0;32m/var/folders/5k/bf4syt7x1zjbhc6b28srzzym0000gn/T/ipykernel_65117/3031594769.py\u001b[0m in \u001b[0;36m<module>\u001b[0;34m\u001b[0m\n\u001b[1;32m     80\u001b[0m \u001b[0mprint\u001b[0m\u001b[0;34m(\u001b[0m\u001b[0;34m\"####INTERPRETER\"\u001b[0m\u001b[0;34m)\u001b[0m\u001b[0;34m\u001b[0m\u001b[0;34m\u001b[0m\u001b[0m\n\u001b[1;32m     81\u001b[0m \u001b[0minterpreter\u001b[0m \u001b[0;34m=\u001b[0m \u001b[0mInterpreter\u001b[0m\u001b[0;34m(\u001b[0m\u001b[0mtree\u001b[0m\u001b[0;34m)\u001b[0m\u001b[0;34m\u001b[0m\u001b[0;34m\u001b[0m\u001b[0m\n\u001b[0;32m---> 82\u001b[0;31m \u001b[0mres\u001b[0m \u001b[0;34m=\u001b[0m \u001b[0minterpreter\u001b[0m\u001b[0;34m.\u001b[0m\u001b[0mparse_tree\u001b[0m\u001b[0;34m(\u001b[0m\u001b[0;34m)\u001b[0m\u001b[0;34m\u001b[0m\u001b[0;34m\u001b[0m\u001b[0m\n\u001b[0m\u001b[1;32m     83\u001b[0m \u001b[0mprint\u001b[0m\u001b[0;34m(\u001b[0m\u001b[0mtype\u001b[0m\u001b[0;34m(\u001b[0m\u001b[0mres\u001b[0m\u001b[0;34m)\u001b[0m\u001b[0;34m,\u001b[0m \u001b[0mres\u001b[0m\u001b[0;34m)\u001b[0m\u001b[0;34m\u001b[0m\u001b[0;34m\u001b[0m\u001b[0m\n\u001b[1;32m     84\u001b[0m \u001b[0mres\u001b[0m\u001b[0;34m.\u001b[0m\u001b[0mvalue\u001b[0m\u001b[0;34m\u001b[0m\u001b[0;34m\u001b[0m\u001b[0m\n",
      "\u001b[0;32m/var/folders/5k/bf4syt7x1zjbhc6b28srzzym0000gn/T/ipykernel_65117/3031594769.py\u001b[0m in \u001b[0;36mparse_tree\u001b[0;34m(self)\u001b[0m\n\u001b[1;32m      5\u001b[0m \u001b[0;34m\u001b[0m\u001b[0m\n\u001b[1;32m      6\u001b[0m     \u001b[0;32mdef\u001b[0m \u001b[0mparse_tree\u001b[0m\u001b[0;34m(\u001b[0m\u001b[0mself\u001b[0m\u001b[0;34m)\u001b[0m\u001b[0;34m:\u001b[0m\u001b[0;34m\u001b[0m\u001b[0;34m\u001b[0m\u001b[0m\n\u001b[0;32m----> 7\u001b[0;31m         \u001b[0;32mreturn\u001b[0m \u001b[0mself\u001b[0m\u001b[0;34m.\u001b[0m\u001b[0mvisit\u001b[0m\u001b[0;34m(\u001b[0m\u001b[0mself\u001b[0m\u001b[0;34m.\u001b[0m\u001b[0mtree\u001b[0m\u001b[0;34m)\u001b[0m\u001b[0;34m\u001b[0m\u001b[0;34m\u001b[0m\u001b[0m\n\u001b[0m\u001b[1;32m      8\u001b[0m \u001b[0;34m\u001b[0m\u001b[0m\n\u001b[1;32m      9\u001b[0m     \u001b[0;32mdef\u001b[0m \u001b[0mvisit\u001b[0m\u001b[0;34m(\u001b[0m\u001b[0mself\u001b[0m\u001b[0;34m,\u001b[0m \u001b[0mnode\u001b[0m\u001b[0;34m)\u001b[0m\u001b[0;34m:\u001b[0m\u001b[0;34m\u001b[0m\u001b[0;34m\u001b[0m\u001b[0m\n",
      "\u001b[0;32m/var/folders/5k/bf4syt7x1zjbhc6b28srzzym0000gn/T/ipykernel_65117/3031594769.py\u001b[0m in \u001b[0;36mvisit\u001b[0;34m(self, node)\u001b[0m\n\u001b[1;32m     10\u001b[0m         \u001b[0mmethod_name\u001b[0m \u001b[0;34m=\u001b[0m \u001b[0;34mf'visit_{type(node).__name__}'\u001b[0m\u001b[0;34m\u001b[0m\u001b[0;34m\u001b[0m\u001b[0m\n\u001b[1;32m     11\u001b[0m         \u001b[0mmethod\u001b[0m \u001b[0;34m=\u001b[0m \u001b[0mgetattr\u001b[0m\u001b[0;34m(\u001b[0m\u001b[0mself\u001b[0m\u001b[0;34m,\u001b[0m \u001b[0mmethod_name\u001b[0m\u001b[0;34m)\u001b[0m\u001b[0;34m\u001b[0m\u001b[0;34m\u001b[0m\u001b[0m\n\u001b[0;32m---> 12\u001b[0;31m         \u001b[0;32mreturn\u001b[0m \u001b[0mmethod\u001b[0m\u001b[0;34m(\u001b[0m\u001b[0mnode\u001b[0m\u001b[0;34m)\u001b[0m\u001b[0;34m\u001b[0m\u001b[0;34m\u001b[0m\u001b[0m\n\u001b[0m\u001b[1;32m     13\u001b[0m \u001b[0;34m\u001b[0m\u001b[0m\n\u001b[1;32m     14\u001b[0m     \u001b[0;32mdef\u001b[0m \u001b[0mvisit_int\u001b[0m\u001b[0;34m(\u001b[0m\u001b[0mself\u001b[0m\u001b[0;34m,\u001b[0m \u001b[0mnode\u001b[0m\u001b[0;34m)\u001b[0m\u001b[0;34m:\u001b[0m\u001b[0;34m\u001b[0m\u001b[0;34m\u001b[0m\u001b[0m\n",
      "\u001b[0;32m/var/folders/5k/bf4syt7x1zjbhc6b28srzzym0000gn/T/ipykernel_65117/3031594769.py\u001b[0m in \u001b[0;36mvisit_PowNode\u001b[0;34m(self, node)\u001b[0m\n\u001b[1;32m     61\u001b[0m         \u001b[0mPowNode\u001b[0m\u001b[0;31m'\u001b[0m\u001b[0ms\u001b[0m \u001b[0mnodes\u001b[0m \u001b[0mshould\u001b[0m \u001b[0mbe\u001b[0m \u001b[0mleafs\u001b[0m \u001b[0monly\u001b[0m\u001b[0;34m,\u001b[0m \u001b[0mso\u001b[0m \u001b[0;32mnot\u001b[0m \u001b[0mreturning\u001b[0m \u001b[0;32mwith\u001b[0m \u001b[0mself\u001b[0m\u001b[0;34m.\u001b[0m\u001b[0mvisit\u001b[0m\u001b[0;34m\u001b[0m\u001b[0;34m\u001b[0m\u001b[0m\n\u001b[1;32m     62\u001b[0m         \"\"\"\n\u001b[0;32m---> 63\u001b[0;31m         \u001b[0;32mreturn\u001b[0m \u001b[0mDimensionNode\u001b[0m\u001b[0;34m(\u001b[0m\u001b[0mself\u001b[0m\u001b[0;34m.\u001b[0m\u001b[0mvisit\u001b[0m\u001b[0;34m(\u001b[0m\u001b[0mnode\u001b[0m\u001b[0;34m.\u001b[0m\u001b[0mnode_a\u001b[0m\u001b[0;34m)\u001b[0m\u001b[0;34m.\u001b[0m\u001b[0mvalue\u001b[0m \u001b[0;34m**\u001b[0m \u001b[0mself\u001b[0m\u001b[0;34m.\u001b[0m\u001b[0mvisit\u001b[0m\u001b[0;34m(\u001b[0m\u001b[0mnode\u001b[0m\u001b[0;34m.\u001b[0m\u001b[0mnode_b\u001b[0m\u001b[0;34m)\u001b[0m\u001b[0;34m.\u001b[0m\u001b[0mvalue\u001b[0m\u001b[0;34m)\u001b[0m\u001b[0;34m\u001b[0m\u001b[0;34m\u001b[0m\u001b[0m\n\u001b[0m\u001b[1;32m     64\u001b[0m         \u001b[0;31m#if node.node_a.value not in self.pow_dict.keys():\u001b[0m\u001b[0;34m\u001b[0m\u001b[0;34m\u001b[0m\u001b[0;34m\u001b[0m\u001b[0m\n\u001b[1;32m     65\u001b[0m         \u001b[0;31m#    self.pow_dict[self.visit(node.node_a).value] = self.visit(node.node_b.value)\u001b[0m\u001b[0;34m\u001b[0m\u001b[0;34m\u001b[0m\u001b[0;34m\u001b[0m\u001b[0m\n",
      "\u001b[0;31mTypeError\u001b[0m: unsupported operand type(s) for ** or pow(): 'str' and 'float'"
     ]
    }
   ],
   "source": [
    "\n",
    "        \n",
    "\n",
    "text = \"T**2.0\"#*L**3*T\"#/(L**2*M)\"\n",
    "lexer = Lexer(text)\n",
    "lexed = list(lexer.generate_tokens())\n",
    "print(lexed)\n",
    "parser = Parser(lexed)\n",
    "tree = parser.parse()\n",
    "print(tree)\n",
    "\n",
    "print(\"####INTERPRETER\")\n",
    "interpreter = Interpreter(tree)\n",
    "res = interpreter.parse_tree()\n",
    "print(type(res), res)\n",
    "res.value"
   ]
  },
  {
   "cell_type": "code",
   "execution_count": 44,
   "id": "9814a8c5-ec1e-460a-9a87-22b00ddafd96",
   "metadata": {},
   "outputs": [],
   "source": [
    "old = Dimension(text)"
   ]
  },
  {
   "cell_type": "code",
   "execution_count": 45,
   "id": "fdac73c5-9a84-4534-b6b6-6333e0342c8e",
   "metadata": {},
   "outputs": [
    {
     "name": "stdout",
     "output_type": "stream",
     "text": [
      "1.22 ms ± 26.5 µs per loop (mean ± std. dev. of 7 runs, 1000 loops each)\n"
     ]
    }
   ],
   "source": [
    "%timeit Dimension(text)"
   ]
  },
  {
   "cell_type": "code",
   "execution_count": 33,
   "id": "b7699d66-b532-4a11-bd6c-336898fbc5f9",
   "metadata": {},
   "outputs": [],
   "source": [
    "£"
   ]
  },
  {
   "cell_type": "code",
   "execution_count": 34,
   "id": "9a1a5c99-550a-411d-9134-9d983582465b",
   "metadata": {},
   "outputs": [
    {
     "data": {
      "text/plain": [
       "\"<Dimension : {'L': 3, 'M': 0, 'T': 3, 'I': 0, 'theta': 0, 'N': 0, 'J': 0, 'RAD': 0, 'SR': 0}>\""
      ]
     },
     "execution_count": 34,
     "metadata": {},
     "output_type": "execute_result"
    }
   ],
   "source": [
    "repr(old)"
   ]
  },
  {
   "cell_type": "code",
   "execution_count": 35,
   "id": "083d624d-f2ea-45a4-b24d-c5f6d49bde52",
   "metadata": {},
   "outputs": [
    {
     "data": {
      "text/plain": [
       "\"<Dimension : {'L': 3, 'M': 0, 'T': 3, 'I': 0, 'theta': 0, 'N': 0, 'J': 0, 'RAD': 0, 'SR': 0}>\""
      ]
     },
     "execution_count": 35,
     "metadata": {},
     "output_type": "execute_result"
    }
   ],
   "source": [
    "repr(new)"
   ]
  },
  {
   "cell_type": "code",
   "execution_count": 36,
   "id": "320beb9d-158e-4a15-8661-328a0df1648a",
   "metadata": {},
   "outputs": [],
   "source": [
    "from physipy.quantity.dimension import parse_str_to_dic"
   ]
  },
  {
   "cell_type": "code",
   "execution_count": 38,
   "id": "43bf3d96-2e71-4cf0-9785-5bc03ce69887",
   "metadata": {},
   "outputs": [
    {
     "name": "stdout",
     "output_type": "stream",
     "text": [
      "T**2.0*L**3*T\n",
      "{'L': 3, 'T': 3.00000000000000}\n",
      "{'L': 3, 'T': 3}\n"
     ]
    }
   ],
   "source": [
    "print(text)\n",
    "print(parse_str_to_dic(text))\n",
    "print(compute_dim_(text))"
   ]
  },
  {
   "cell_type": "code",
   "execution_count": 39,
   "id": "f8a3fce7-4614-402b-81d1-2982b3a280cd",
   "metadata": {},
   "outputs": [
    {
     "name": "stdout",
     "output_type": "stream",
     "text": [
      "596 µs ± 3.41 µs per loop (mean ± std. dev. of 7 runs, 1000 loops each)\n",
      "85.2 µs ± 794 ns per loop (mean ± std. dev. of 7 runs, 10000 loops each)\n"
     ]
    }
   ],
   "source": [
    "%timeit parse_str_to_dic(text)\n",
    "%timeit compute_dim_(text)"
   ]
  },
  {
   "cell_type": "code",
   "execution_count": 17,
   "id": "c13e7435-a31f-487f-a324-261b04a940d0",
   "metadata": {},
   "outputs": [
    {
     "data": {
      "text/plain": [
       "True"
      ]
     },
     "execution_count": 17,
     "metadata": {},
     "output_type": "execute_result"
    }
   ],
   "source": [
    "old == new"
   ]
  },
  {
   "cell_type": "code",
   "execution_count": 24,
   "id": "390df282-3020-4a43-8c19-049ae17e3f55",
   "metadata": {},
   "outputs": [
    {
     "name": "stdout",
     "output_type": "stream",
     "text": [
      "84.7 µs ± 31.1 ns per loop (mean ± std. dev. of 7 runs, 10000 loops each)\n"
     ]
    }
   ],
   "source": [
    "%%timeit\n",
    "res = (Interpreter(Parser(list(Lexer(text).generate_tokens())).parse()).parse_tree()).value\n",
    "for k, v in res.dim_dict.items():\n",
    "    if int(v) == v:\n",
    "        res.dim_dict[k]=int(v)"
   ]
  },
  {
   "cell_type": "code",
   "execution_count": 25,
   "id": "53ef5ff8-bc83-4edb-9452-28d23c38419f",
   "metadata": {},
   "outputs": [
    {
     "data": {
      "text/plain": [
       "14.403778040141676"
      ]
     },
     "execution_count": 25,
     "metadata": {},
     "output_type": "execute_result"
    }
   ],
   "source": [
    "from physipy import units\n",
    "ms = units[\"ms\"]\n",
    "mus = units['mus']\n",
    "(1.22*ms)/(84.7*mus)"
   ]
  },
  {
   "cell_type": "code",
   "execution_count": null,
   "id": "43666806-b53c-45b8-8fa9-f17bf9282274",
   "metadata": {},
   "outputs": [],
   "source": []
  }
 ],
 "metadata": {
  "kernelspec": {
   "display_name": "Python 3 (ipykernel)",
   "language": "python",
   "name": "python3"
  },
  "language_info": {
   "codemirror_mode": {
    "name": "ipython",
    "version": 3
   },
   "file_extension": ".py",
   "mimetype": "text/x-python",
   "name": "python",
   "nbconvert_exporter": "python",
   "pygments_lexer": "ipython3",
   "version": "3.8.5"
  }
 },
 "nbformat": 4,
 "nbformat_minor": 5
}
