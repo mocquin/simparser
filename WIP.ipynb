{
 "cells": [
  {
   "cell_type": "markdown",
   "id": "a3ba1cac-a26d-4212-92da-48a04067df4f",
   "metadata": {},
   "source": []
  },
  {
   "cell_type": "markdown",
   "id": "914d7d94-cc1e-414f-bd90-b02290185c01",
   "metadata": {},
   "source": [
    "#"
   ]
  },
  {
   "cell_type": "code",
   "execution_count": 2,
   "id": "33c7ca03-c277-4712-968b-356660571e13",
   "metadata": {},
   "outputs": [],
   "source": [
    "%load_ext autoreload"
   ]
  },
  {
   "cell_type": "code",
   "execution_count": 3,
   "id": "b11cc01b-35dc-44e0-b531-05f6c5f2227c",
   "metadata": {},
   "outputs": [],
   "source": [
    "%autoreload 2"
   ]
  },
  {
   "cell_type": "code",
   "execution_count": 1,
   "id": "94703d51-ecb0-4498-8134-7a08b288d11f",
   "metadata": {},
   "outputs": [],
   "source": [
    "from lexer import Lexer\n",
    "from parser import Parser\n",
    "from interpreter import Interpreter\n",
    "\n",
    "\n",
    "def new_parse_str_to_dict(text):\n",
    "    lexer = Lexer(text)\n",
    "    lexed = list(lexer.generate_tokens())\n",
    "    parser = Parser(lexed)\n",
    "    tree = parser.parse()\n",
    "    \n",
    "    interpreter = Interpreter(tree)\n",
    "    res = interpreter.parse_tree()\n",
    "    return dict(res.value.counter)"
   ]
  },
  {
   "cell_type": "code",
   "execution_count": 2,
   "id": "d9e65b92-ea11-4aec-94ab-ee8aecd624a7",
   "metadata": {},
   "outputs": [
    {
     "data": {
      "text/plain": [
       "{'T': 3.0, 'L': 1, 'M': -1}"
      ]
     },
     "execution_count": 2,
     "metadata": {},
     "output_type": "execute_result"
    }
   ],
   "source": [
    "text = \"T**2.0*L**3*T/(L**2*M)\"\n",
    "\n",
    "new_parse_str_to_dict(text)"
   ]
  },
  {
   "cell_type": "code",
   "execution_count": 3,
   "id": "205b86af-3ad7-42d8-ac08-6d5174be08de",
   "metadata": {},
   "outputs": [],
   "source": [
    "from physipy.quantity.dimension import parse_str_to_dic"
   ]
  },
  {
   "cell_type": "code",
   "execution_count": null,
   "id": "f5891e23-181f-4ffe-872d-5d3fff1a30b4",
   "metadata": {},
   "outputs": [],
   "source": [
    "%timeit parse_str_to_dic(text)\n",
    "%timeit new_parse_str_to_dict(text)"
   ]
  },
  {
   "cell_type": "code",
   "execution_count": null,
   "id": "087c6e52-667a-4de0-b5dc-ee3ff5ce4509",
   "metadata": {},
   "outputs": [],
   "source": []
  },
  {
   "cell_type": "code",
   "execution_count": 44,
   "id": "9814a8c5-ec1e-460a-9a87-22b00ddafd96",
   "metadata": {},
   "outputs": [],
   "source": [
    "old = Dimension(text)"
   ]
  },
  {
   "cell_type": "code",
   "execution_count": 45,
   "id": "fdac73c5-9a84-4534-b6b6-6333e0342c8e",
   "metadata": {},
   "outputs": [
    {
     "name": "stdout",
     "output_type": "stream",
     "text": [
      "1.22 ms ± 26.5 µs per loop (mean ± std. dev. of 7 runs, 1000 loops each)\n"
     ]
    }
   ],
   "source": [
    "%timeit Dimension(text)"
   ]
  },
  {
   "cell_type": "code",
   "execution_count": 33,
   "id": "b7699d66-b532-4a11-bd6c-336898fbc5f9",
   "metadata": {},
   "outputs": [],
   "source": [
    "£"
   ]
  },
  {
   "cell_type": "code",
   "execution_count": 34,
   "id": "9a1a5c99-550a-411d-9134-9d983582465b",
   "metadata": {},
   "outputs": [
    {
     "data": {
      "text/plain": [
       "\"<Dimension : {'L': 3, 'M': 0, 'T': 3, 'I': 0, 'theta': 0, 'N': 0, 'J': 0, 'RAD': 0, 'SR': 0}>\""
      ]
     },
     "execution_count": 34,
     "metadata": {},
     "output_type": "execute_result"
    }
   ],
   "source": [
    "repr(old)"
   ]
  },
  {
   "cell_type": "code",
   "execution_count": 35,
   "id": "083d624d-f2ea-45a4-b24d-c5f6d49bde52",
   "metadata": {},
   "outputs": [
    {
     "data": {
      "text/plain": [
       "\"<Dimension : {'L': 3, 'M': 0, 'T': 3, 'I': 0, 'theta': 0, 'N': 0, 'J': 0, 'RAD': 0, 'SR': 0}>\""
      ]
     },
     "execution_count": 35,
     "metadata": {},
     "output_type": "execute_result"
    }
   ],
   "source": [
    "repr(new)"
   ]
  },
  {
   "cell_type": "code",
   "execution_count": 39,
   "id": "e6228822-531c-4da6-abe8-3b14a078aee2",
   "metadata": {},
   "outputs": [],
   "source": [
    "from physipy.quantity.dimension import parse_str_to_dic\n",
    "\n",
    "%timeit parse_str_to_dic(text)\n",
    "%timeit compute_dim_(text)"
   ]
  },
  {
   "cell_type": "code",
   "execution_count": 17,
   "id": "c13e7435-a31f-487f-a324-261b04a940d0",
   "metadata": {},
   "outputs": [
    {
     "data": {
      "text/plain": [
       "True"
      ]
     },
     "execution_count": 17,
     "metadata": {},
     "output_type": "execute_result"
    }
   ],
   "source": [
    "old == new"
   ]
  },
  {
   "cell_type": "code",
   "execution_count": 24,
   "id": "390df282-3020-4a43-8c19-049ae17e3f55",
   "metadata": {},
   "outputs": [
    {
     "name": "stdout",
     "output_type": "stream",
     "text": [
      "84.7 µs ± 31.1 ns per loop (mean ± std. dev. of 7 runs, 10000 loops each)\n"
     ]
    }
   ],
   "source": [
    "%%timeit\n",
    "res = (Interpreter(Parser(list(Lexer(text).generate_tokens())).parse()).parse_tree()).value\n",
    "for k, v in res.dim_dict.items():\n",
    "    if int(v) == v:\n",
    "        res.dim_dict[k]=int(v)"
   ]
  },
  {
   "cell_type": "code",
   "execution_count": 25,
   "id": "53ef5ff8-bc83-4edb-9452-28d23c38419f",
   "metadata": {},
   "outputs": [
    {
     "data": {
      "text/plain": [
       "14.403778040141676"
      ]
     },
     "execution_count": 25,
     "metadata": {},
     "output_type": "execute_result"
    }
   ],
   "source": [
    "from physipy import units\n",
    "ms = units[\"ms\"]\n",
    "mus = units['mus']\n",
    "(1.22*ms)/(84.7*mus)"
   ]
  },
  {
   "cell_type": "code",
   "execution_count": null,
   "id": "43666806-b53c-45b8-8fa9-f17bf9282274",
   "metadata": {},
   "outputs": [],
   "source": []
  }
 ],
 "metadata": {
  "kernelspec": {
   "display_name": "Python 3 (ipykernel)",
   "language": "python",
   "name": "python3"
  },
  "language_info": {
   "codemirror_mode": {
    "name": "ipython",
    "version": 3
   },
   "file_extension": ".py",
   "mimetype": "text/x-python",
   "name": "python",
   "nbconvert_exporter": "python",
   "pygments_lexer": "ipython3",
   "version": "3.8.5"
  }
 },
 "nbformat": 4,
 "nbformat_minor": 5
}
